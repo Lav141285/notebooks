{
 "cells": [
  {
   "cell_type": "code",
   "execution_count": 1,
   "metadata": {},
   "outputs": [],
   "source": [
    "import pandas as pd\n",
    "import numpy as np\n",
    "import matplotlib.pyplot as plt\n",
    "from bs4 import BeautifulSoup as bs\n",
    "import requests"
   ]
  },
  {
   "cell_type": "code",
   "execution_count": 2,
   "metadata": {},
   "outputs": [],
   "source": [
    "import os\n",
    "\n",
    "df_w_features_path = os.getcwd()+\"/data/df_w_features.csv\"\n",
    "game_summaries_path = os.getcwd()+\"/data/game_summaries.csv\"\n",
    "teams_path = os.getcwd()+\"/data/teams.csv\"\n",
    "encoder_model_path = os.getcwd()+\"/data/encoder_model.pk\"\n",
    "\n",
    "if(not os.path.exists(df_w_features_path)):\n",
    "    open(df_w_features_path, 'w').close()\n",
    "if(not os.path.exists(game_summaries_path)):\n",
    "    open(game_summaries_path, 'w').close()\n",
    "if(not os.path.exists(encoder_model_path)):\n",
    "    open(encoder_model_path, 'w').close()\n",
    "\n"
   ]
  },
  {
   "cell_type": "code",
   "execution_count": 3,
   "metadata": {},
   "outputs": [],
   "source": [
    "%matplotlib inline\n",
    "%load_ext autoreload\n",
    "%autoreload 2\n",
    "\n",
    "import warnings\n",
    "warnings.filterwarnings('ignore')\n",
    "warnings.simplefilter(action='ignore', category=FutureWarning)"
   ]
  },
  {
   "cell_type": "code",
   "execution_count": 4,
   "metadata": {},
   "outputs": [],
   "source": [
    "import scrape_in_code_folder as scrape\n",
    "import features_in_code_folder as features\n",
    "import dataframe_utilities_in_code_folder as util"
   ]
  },
  {
   "cell_type": "markdown",
   "metadata": {},
   "source": [
    "# Update DB & Get Today Games"
   ]
  },
  {
   "cell_type": "code",
   "execution_count": 5,
   "metadata": {},
   "outputs": [
    {
     "data": {
      "text/plain": [
       "Timestamp('2022-05-18 00:00:00')"
      ]
     },
     "execution_count": 5,
     "metadata": {},
     "output_type": "execute_result"
    }
   ],
   "source": [
    "\n",
    "last_day = pd.to_datetime(pd.read_csv(game_summaries_path)['date']).max()\n",
    "get_day = last_day + pd.Timedelta(days=1)\n",
    "get_day"
   ]
  },
  {
   "cell_type": "code",
   "execution_count": 6,
   "metadata": {},
   "outputs": [],
   "source": [
    "while get_day.date() < pd.datetime.today().date():\n",
    "    links = scrape.get_game_links(get_day)\n",
    "    for l in links:\n",
    "        scrape.process_link(l)\n",
    "    get_day += + pd.Timedelta(days=1)"
   ]
  },
  {
   "cell_type": "code",
   "execution_count": 7,
   "metadata": {},
   "outputs": [
    {
     "name": "stdout",
     "output_type": "stream",
     "text": [
      "no pitcher {'away_team_abbr': 'PIT', 'home_team_abbr': 'CHC', 'time': '7:40PM', 'away_pitcher': 'smylydr01'}\n"
     ]
    }
   ],
   "source": [
    "test_df = scrape.get_today_games()"
   ]
  },
  {
   "cell_type": "code",
   "execution_count": 8,
   "metadata": {},
   "outputs": [
    {
     "data": {
      "text/html": [
       "<div>\n",
       "<style scoped>\n",
       "    .dataframe tbody tr th:only-of-type {\n",
       "        vertical-align: middle;\n",
       "    }\n",
       "\n",
       "    .dataframe tbody tr th {\n",
       "        vertical-align: top;\n",
       "    }\n",
       "\n",
       "    .dataframe thead th {\n",
       "        text-align: right;\n",
       "    }\n",
       "</style>\n",
       "<table border=\"1\" class=\"dataframe\">\n",
       "  <thead>\n",
       "    <tr style=\"text-align: right;\">\n",
       "      <th></th>\n",
       "      <th>away_team_abbr</th>\n",
       "      <th>home_team_abbr</th>\n",
       "      <th>time</th>\n",
       "      <th>away_pitcher</th>\n",
       "      <th>home_pitcher</th>\n",
       "      <th>date</th>\n",
       "    </tr>\n",
       "  </thead>\n",
       "  <tbody>\n",
       "    <tr>\n",
       "      <th>0</th>\n",
       "      <td>ATL</td>\n",
       "      <td>MIL</td>\n",
       "      <td>1:10PM</td>\n",
       "      <td>friedma01</td>\n",
       "      <td>burneco01</td>\n",
       "      <td>2022-05-18</td>\n",
       "    </tr>\n",
       "    <tr>\n",
       "      <th>1</th>\n",
       "      <td>DET</td>\n",
       "      <td>TBR</td>\n",
       "      <td>1:10PM</td>\n",
       "      <td>rodried05</td>\n",
       "      <td>rasmudr01</td>\n",
       "      <td>2022-05-18</td>\n",
       "    </tr>\n",
       "    <tr>\n",
       "      <th>2</th>\n",
       "      <td>SFG</td>\n",
       "      <td>COL</td>\n",
       "      <td>3:10PM</td>\n",
       "      <td>webblo01</td>\n",
       "      <td>freelky01</td>\n",
       "      <td>2022-05-18</td>\n",
       "    </tr>\n",
       "    <tr>\n",
       "      <th>3</th>\n",
       "      <td>MIN</td>\n",
       "      <td>OAK</td>\n",
       "      <td>3:37PM</td>\n",
       "      <td>grayso01</td>\n",
       "      <td>jeffeda01</td>\n",
       "      <td>2022-05-18</td>\n",
       "    </tr>\n",
       "    <tr>\n",
       "      <th>4</th>\n",
       "      <td>ARI</td>\n",
       "      <td>LAD</td>\n",
       "      <td>4:10PM</td>\n",
       "      <td>davieza02</td>\n",
       "      <td>buehlwa01</td>\n",
       "      <td>2022-05-18</td>\n",
       "    </tr>\n",
       "    <tr>\n",
       "      <th>5</th>\n",
       "      <td>HOU</td>\n",
       "      <td>BOS</td>\n",
       "      <td>6:10PM</td>\n",
       "      <td>garcilu05</td>\n",
       "      <td>pivetni01</td>\n",
       "      <td>2022-05-18</td>\n",
       "    </tr>\n",
       "    <tr>\n",
       "      <th>6</th>\n",
       "      <td>CIN</td>\n",
       "      <td>CLE</td>\n",
       "      <td>6:10PM</td>\n",
       "      <td>mahlety01</td>\n",
       "      <td>quantca01</td>\n",
       "      <td>2022-05-18</td>\n",
       "    </tr>\n",
       "    <tr>\n",
       "      <th>7</th>\n",
       "      <td>WSN</td>\n",
       "      <td>MIA</td>\n",
       "      <td>6:40PM</td>\n",
       "      <td>grayjo03</td>\n",
       "      <td>lopezpa01</td>\n",
       "      <td>2022-05-18</td>\n",
       "    </tr>\n",
       "    <tr>\n",
       "      <th>8</th>\n",
       "      <td>SDP</td>\n",
       "      <td>PHI</td>\n",
       "      <td>6:45PM</td>\n",
       "      <td>snellbl01</td>\n",
       "      <td>wheelza01</td>\n",
       "      <td>2022-05-18</td>\n",
       "    </tr>\n",
       "    <tr>\n",
       "      <th>9</th>\n",
       "      <td>NYY</td>\n",
       "      <td>BAL</td>\n",
       "      <td>7:05PM</td>\n",
       "      <td>colege01</td>\n",
       "      <td>lylesjo01</td>\n",
       "      <td>2022-05-18</td>\n",
       "    </tr>\n",
       "    <tr>\n",
       "      <th>10</th>\n",
       "      <td>SEA</td>\n",
       "      <td>TOR</td>\n",
       "      <td>7:07PM</td>\n",
       "      <td>gonzama02</td>\n",
       "      <td>gausmke01</td>\n",
       "      <td>2022-05-18</td>\n",
       "    </tr>\n",
       "    <tr>\n",
       "      <th>11</th>\n",
       "      <td>STL</td>\n",
       "      <td>NYM</td>\n",
       "      <td>7:10PM</td>\n",
       "      <td>hicksjo03</td>\n",
       "      <td>scherma01</td>\n",
       "      <td>2022-05-18</td>\n",
       "    </tr>\n",
       "    <tr>\n",
       "      <th>12</th>\n",
       "      <td>PIT</td>\n",
       "      <td>CHC</td>\n",
       "      <td>7:40PM</td>\n",
       "      <td>smylydr01</td>\n",
       "      <td>NaN</td>\n",
       "      <td>2022-05-18</td>\n",
       "    </tr>\n",
       "    <tr>\n",
       "      <th>13</th>\n",
       "      <td>LAA</td>\n",
       "      <td>TEX</td>\n",
       "      <td>8:05PM</td>\n",
       "      <td>ohtansh01</td>\n",
       "      <td>dunnida01</td>\n",
       "      <td>2022-05-18</td>\n",
       "    </tr>\n",
       "    <tr>\n",
       "      <th>14</th>\n",
       "      <td>CHW</td>\n",
       "      <td>KCR</td>\n",
       "      <td>8:10PM</td>\n",
       "      <td>giolilu01</td>\n",
       "      <td>greinza01</td>\n",
       "      <td>2022-05-18</td>\n",
       "    </tr>\n",
       "  </tbody>\n",
       "</table>\n",
       "</div>"
      ],
      "text/plain": [
       "   away_team_abbr home_team_abbr    time away_pitcher home_pitcher        date\n",
       "0             ATL            MIL  1:10PM    friedma01    burneco01  2022-05-18\n",
       "1             DET            TBR  1:10PM    rodried05    rasmudr01  2022-05-18\n",
       "2             SFG            COL  3:10PM     webblo01    freelky01  2022-05-18\n",
       "3             MIN            OAK  3:37PM     grayso01    jeffeda01  2022-05-18\n",
       "4             ARI            LAD  4:10PM    davieza02    buehlwa01  2022-05-18\n",
       "5             HOU            BOS  6:10PM    garcilu05    pivetni01  2022-05-18\n",
       "6             CIN            CLE  6:10PM    mahlety01    quantca01  2022-05-18\n",
       "7             WSN            MIA  6:40PM     grayjo03    lopezpa01  2022-05-18\n",
       "8             SDP            PHI  6:45PM    snellbl01    wheelza01  2022-05-18\n",
       "9             NYY            BAL  7:05PM     colege01    lylesjo01  2022-05-18\n",
       "10            SEA            TOR  7:07PM    gonzama02    gausmke01  2022-05-18\n",
       "11            STL            NYM  7:10PM    hicksjo03    scherma01  2022-05-18\n",
       "12            PIT            CHC  7:40PM    smylydr01          NaN  2022-05-18\n",
       "13            LAA            TEX  8:05PM    ohtansh01    dunnida01  2022-05-18\n",
       "14            CHW            KCR  8:10PM    giolilu01    greinza01  2022-05-18"
      ]
     },
     "execution_count": 8,
     "metadata": {},
     "output_type": "execute_result"
    }
   ],
   "source": [
    "test_df"
   ]
  },
  {
   "cell_type": "markdown",
   "metadata": {},
   "source": [
    "# Process Stats for Today's Games"
   ]
  },
  {
   "cell_type": "markdown",
   "metadata": {},
   "source": [
    "## Merge test and train dfs"
   ]
  },
  {
   "cell_type": "code",
   "execution_count": 9,
   "metadata": {},
   "outputs": [],
   "source": [
    "test_df['is_night_game'] = True\n",
    "test_df['is_night_game'][test_df['time'].str[:1].astype('int')<5] = False\n",
    "test_df['is_night_game'][test_df['time'].str[1:2].isin(['0','1'])] = True #for 10,11 PM games\n",
    "test_df.drop(columns='time', inplace=True)"
   ]
  },
  {
   "cell_type": "code",
   "execution_count": 10,
   "metadata": {},
   "outputs": [
    {
     "data": {
      "text/plain": [
       "(15, 9)"
      ]
     },
     "execution_count": 10,
     "metadata": {},
     "output_type": "execute_result"
    }
   ],
   "source": [
    "test_df['is_test'] = True\n",
    "test_df['home_team_win']=np.nan\n",
    "test_df['game_id'] = test_df.home_team_abbr + test_df.date.astype('str').str.replace('-','') + '0'\n",
    "test_df.shape"
   ]
  },
  {
   "cell_type": "code",
   "execution_count": 11,
   "metadata": {},
   "outputs": [
    {
     "data": {
      "text/plain": [
       "(4002, 9)"
      ]
     },
     "execution_count": 11,
     "metadata": {},
     "output_type": "execute_result"
    }
   ],
   "source": [
    "df = features.get_game_df()\n",
    "df['is_test'] = False\n",
    "df.shape"
   ]
  },
  {
   "cell_type": "code",
   "execution_count": 12,
   "metadata": {},
   "outputs": [
    {
     "data": {
      "text/plain": [
       "(4017, 9)"
      ]
     },
     "execution_count": 12,
     "metadata": {},
     "output_type": "execute_result"
    }
   ],
   "source": [
    "df = pd.concat([df,test_df])\n",
    "df = df.sort_values(by='date').reset_index(drop=True)\n",
    "df.shape"
   ]
  },
  {
   "cell_type": "markdown",
   "metadata": {},
   "source": [
    "## Add Features"
   ]
  },
  {
   "cell_type": "code",
   "execution_count": 13,
   "metadata": {},
   "outputs": [
    {
     "data": {
      "text/plain": [
       "(4017, 18)"
      ]
     },
     "execution_count": 13,
     "metadata": {},
     "output_type": "execute_result"
    }
   ],
   "source": [
    "df = features.add_trueskill_ratings(df)\n",
    "df = features.add_rest_durations(df)\n",
    "df.shape"
   ]
  },
  {
   "cell_type": "code",
   "execution_count": 14,
   "metadata": {},
   "outputs": [],
   "source": [
    "#datetime\n",
    "date = pd.to_datetime(df['date'])\n",
    "df['season'] = date.dt.year\n",
    "df['month']=date.dt.month\n",
    "df['week_num'] = date.dt.week\n",
    "df['dow']=date.dt.weekday.astype('int')"
   ]
  },
  {
   "cell_type": "code",
   "execution_count": 15,
   "metadata": {},
   "outputs": [],
   "source": [
    "df['dh_game_no'] = pd.to_numeric(df['game_id'].str[-1:],errors='coerce')\n",
    "df['date'] = (pd.to_datetime(df['date']) - pd.Timestamp(\"1970-01-01\")) // pd.Timedelta('1s') #epoch time"
   ]
  },
  {
   "cell_type": "markdown",
   "metadata": {},
   "source": [
    "### Add Stats"
   ]
  },
  {
   "cell_type": "code",
   "execution_count": 16,
   "metadata": {},
   "outputs": [],
   "source": [
    "games = features.get_games()\n",
    "batting = features.get_batting()\n",
    "pitching = features.get_pitching()\n",
    "pitchers = features.get_pitchers()"
   ]
  },
  {
   "cell_type": "markdown",
   "metadata": {},
   "source": [
    "#### Rolling 10 Day Stats"
   ]
  },
  {
   "cell_type": "code",
   "execution_count": 17,
   "metadata": {},
   "outputs": [],
   "source": [
    "b_stats = ['batting_avg','leverage_index_avg', 'onbase_perc', 'onbase_plus_slugging']\n",
    "df = features.add_10RA_rolling(batting, df, b_stats, True, 'batting')"
   ]
  },
  {
   "cell_type": "code",
   "execution_count": 18,
   "metadata": {},
   "outputs": [],
   "source": [
    "pitching['SO_batters_faced'] = pitching['SO'] / pitching['batters_faced']\n",
    "pitching['H_batters_faced'] = pitching['H'] / pitching['batters_faced']\n",
    "pitching['BB_batters_faced'] = pitching['BB'] / pitching['batters_faced']\n",
    "\n",
    "# create rolling stat\n",
    "b_stats = ['earned_run_avg','SO_batters_faced','H_batters_faced','BB_batters_faced']\n",
    "df = features.add_10RA_rolling(pitching, df, b_stats, True, 'team_pitching')"
   ]
  },
  {
   "cell_type": "code",
   "execution_count": 19,
   "metadata": {},
   "outputs": [],
   "source": [
    "pitchers['SO_batters_faced'] = pitchers['SO'] / pitchers['batters_faced']\n",
    "pitchers['H_batters_faced'] = pitchers['H'] / pitchers['batters_faced']\n",
    "pitchers['BB_batters_faced'] = pitchers['BB'] / pitchers['batters_faced']\n",
    "\n",
    "# create rolling stat\n",
    "b_stats = ['earned_run_avg','SO_batters_faced','H_batters_faced','BB_batters_faced']\n",
    "df = features.add_10RA_rolling(pitchers, df, b_stats, False, 'pitcher')"
   ]
  },
  {
   "cell_type": "markdown",
   "metadata": {},
   "source": [
    "#### Games Stats"
   ]
  },
  {
   "cell_type": "code",
   "execution_count": 20,
   "metadata": {
    "scrolled": true
   },
   "outputs": [],
   "source": [
    "import time\n",
    "try:\n",
    "    df = features.game_stats(games,df)\n",
    "except:\n",
    "    time.sleep(1)\n",
    "    df = features.game_stats(games,df)"
   ]
  },
  {
   "cell_type": "code",
   "execution_count": 21,
   "metadata": {
    "scrolled": true
   },
   "outputs": [
    {
     "data": {
      "text/plain": [
       "(4017, 82)"
      ]
     },
     "execution_count": 21,
     "metadata": {},
     "output_type": "execute_result"
    }
   ],
   "source": [
    "df.shape"
   ]
  },
  {
   "cell_type": "markdown",
   "metadata": {},
   "source": [
    "#### Season Stats"
   ]
  },
  {
   "cell_type": "code",
   "execution_count": 22,
   "metadata": {},
   "outputs": [
    {
     "data": {
      "text/plain": [
       "(4017, 222)"
      ]
     },
     "execution_count": 22,
     "metadata": {},
     "output_type": "execute_result"
    }
   ],
   "source": [
    "batting_stats = ['A', 'AB', 'BB', 'H', 'PA', 'PO', 'R', 'RBI', 'SO', 'batting_avg',\n",
    "             'leverage_index_avg', 'onbase_perc', 'onbase_plus_slugging', 'pitches', \n",
    "             're24_bat', 'slugging_perc', 'strikes_total', 'wpa_bat', 'wpa_bat_neg', \n",
    "             'wpa_bat_pos']\n",
    "df = features.add_season_rolling(batting, df, batting_stats, True,'batting')\n",
    "df.shape"
   ]
  },
  {
   "cell_type": "code",
   "execution_count": 23,
   "metadata": {},
   "outputs": [
    {
     "data": {
      "text/plain": [
       "(4017, 411)"
      ]
     },
     "execution_count": 23,
     "metadata": {},
     "output_type": "execute_result"
    }
   ],
   "source": [
    "pitching_stats = ['BB', 'ER', 'H', 'HR', 'IP', 'R', 'SO', 'batters_faced',\n",
    "               'earned_run_avg', 'game_score', 'inherited_runners',\n",
    "               'inherited_score', 'inplay_fb_total', 'inplay_gb_total', 'inplay_ld',\n",
    "               'inplay_unk', 'leverage_index_avg', 'pitches', 're24_def',\n",
    "               'strikes_contact', 'strikes_looking', 'strikes_swinging',\n",
    "               'strikes_total', 'wpa_def','SO_batters_faced','H_batters_faced',\n",
    "                'BB_batters_faced']\n",
    "df = features.add_season_rolling(pitching, df, pitching_stats, True,'team_pitching')\n",
    "df.shape"
   ]
  },
  {
   "cell_type": "code",
   "execution_count": 24,
   "metadata": {},
   "outputs": [
    {
     "data": {
      "text/plain": [
       "(4017, 600)"
      ]
     },
     "execution_count": 24,
     "metadata": {},
     "output_type": "execute_result"
    }
   ],
   "source": [
    "df = features.add_season_rolling(pitchers, df, pitching_stats, False,'pitcher')\n",
    "df.shape"
   ]
  },
  {
   "cell_type": "markdown",
   "metadata": {},
   "source": [
    "## Cleanup"
   ]
  },
  {
   "cell_type": "code",
   "execution_count": 25,
   "metadata": {},
   "outputs": [],
   "source": [
    "df = util.fix_na(df, False)"
   ]
  },
  {
   "cell_type": "markdown",
   "metadata": {},
   "source": [
    "# Generate Predictions"
   ]
  },
  {
   "cell_type": "code",
   "execution_count": 26,
   "metadata": {},
   "outputs": [],
   "source": [
    "X_test = df[df.is_test].drop(columns=['is_test'])\n",
    "\n",
    "# make columns match training data\n",
    "cols = pd.read_csv(df_w_features_path).columns\n",
    "X_test = X_test[cols]\n",
    "\n",
    "X_test.drop(columns=['home_team_win','game_id'], inplace=True)"
   ]
  },
  {
   "cell_type": "code",
   "execution_count": 27,
   "metadata": {},
   "outputs": [
    {
     "name": "stdout",
     "output_type": "stream",
     "text": [
      "[1 1 1 1 1 0 0 1 1 1 0 0 0 1 0]\n"
     ]
    }
   ],
   "source": [
    "import pickle\n",
    "\n",
    "encoder, model = pickle.load(open(encoder_model_path,'rb'))\n",
    "\n",
    "X_test = encoder.transform(X_test)\n",
    "proba = model.predict_proba(X_test)[:,1]\n",
    "pred = model.predict(X_test)\n",
    "print(pred)"
   ]
  },
  {
   "cell_type": "code",
   "execution_count": 28,
   "metadata": {},
   "outputs": [],
   "source": [
    "test_df = test_df.sort_values(by=['date','game_id']).reset_index(drop=True)\n",
    "\n",
    "pred_df = df[df.is_test][['away_pitcher', 'away_team_abbr', 'home_pitcher', 'home_team_abbr']]\n",
    "\n",
    "pred_df['home'] = pred_df['home_team_abbr']\n",
    "\n",
    "pred_df['away'] = pred_df['away_team_abbr']\n",
    "\n",
    "pred_df.drop(columns=['home_team_abbr','away_team_abbr'], inplace=True)\n",
    "\n",
    "pred_df['xgb_proba']= proba\n",
    "\n",
    "pred_df['xgb_winner']=pred_df.home\n",
    "\n",
    "pred_df['xgb_winner'][pred!= 1]=pred_df.away"
   ]
  },
  {
   "cell_type": "code",
   "execution_count": 29,
   "metadata": {},
   "outputs": [],
   "source": [
    "# get daily odds from covers.com\n",
    "import requests\n",
    "from bs4 import BeautifulSoup as bs\n",
    "html = requests.get('https://www.covers.com/sports/mlb/matchups').text\n",
    "soup = bs(html)\n",
    "games = []\n",
    "for s in soup.findAll('div',{'class':'cmg_matchup_game_box cmg_game_data'}):\n",
    "    g = {}\n",
    "    g['home'] = s['data-home-team-shortname-search']\n",
    "    g['home_odds'] = s['data-game-odd']\n",
    "    \n",
    "    if g['home']=='SD':g['home']='SDP'\n",
    "    if g['home']=='KC':g['home']='KCR'\n",
    "    if g['home']=='SF':g['home']='SFG'\n",
    "    if g['home']=='WAS':g['home']='WSN'\n",
    "    if g['home']=='TB':g['home']='TBR'\n",
    "    \n",
    "    games.append(g)\n",
    "odds = pd.DataFrame(games)\n",
    "\n",
    "# merge in the odds\n",
    "pred_df = pd.merge(left=pred_df, right=odds, on='home', how='left')\n",
    "pred_df['home_odds']=pd.to_numeric(pred_df['home_odds'], errors='coerce')\n",
    "# pred_df['online_odds'][pred_df.xgb_probability<0.5] = -pred_df['online_odds'] #convert odds to pred winner odds (not home team odds)"
   ]
  },
  {
   "cell_type": "code",
   "execution_count": 30,
   "metadata": {},
   "outputs": [],
   "source": [
    "# online proba\n",
    "#https://www.bettingexpert.com/en-au/learn/understanding-betting-odds/how-to-convert-odds\n",
    "pred_df['online_proba'] = -pred_df['home_odds']/(-pred_df['home_odds']+100)\n",
    "pred_df['online_proba'][pred_df['home_odds']>0] = 100/(pred_df['home_odds']+100)\n",
    "\n",
    "# Confidence\n",
    "pred_df['confidence'] = np.abs(pred_df['xgb_proba']-0.5)+.5\n",
    "online_conf = np.abs(pred_df['online_proba']-0.5)+.5\n",
    "\n",
    "pred_df['conf_diff'] = pred_df['confidence'] - online_conf\n",
    "pred_df['conf_diff'][(pred_df['xgb_proba']>.5)&(pred_df['online_proba']<.5)] = 'Contrary'\n",
    "pred_df['conf_diff'][(pred_df['xgb_proba']<.5)&(pred_df['online_proba']>.5)] = 'Contrary'"
   ]
  },
  {
   "cell_type": "code",
   "execution_count": 31,
   "metadata": {},
   "outputs": [],
   "source": [
    "def create_teams_file():\n",
    "    soup = bs(requests.get(\n",
    "        'https://www.baseball-reference.com/teams/').text, \"html.parser\")\n",
    "\n",
    "    f = open(\n",
    "        r'D:\\FreelancerJobs\\fix_problems\\fix_mlb_outcomes\\notebooks\\data\\teams.csv', 'w')\n",
    "    f.write('Abbr,Team\\n')\n",
    "    tags_a = soup.find_all('a')\n",
    "\n",
    "    for a in tags_a:\n",
    "        url = a['href']\n",
    "        if(url[:7] == '/teams/' and url[-1] == '/'):\n",
    "            if(url[7:-1] != ''):\n",
    "                f.write(url[7:-1]+\",\"+a.get_text()+\"\\n\")\n",
    "    f.close()"
   ]
  },
  {
   "cell_type": "code",
   "execution_count": 32,
   "metadata": {
    "scrolled": false
   },
   "outputs": [
    {
     "name": "stdout",
     "output_type": "stream",
     "text": [
      "   away_pitcher home_pitcher home away  xgb_proba  home_odds  online_proba  \\\n",
      "0     rodried05    rasmudr01  TBR  DET   0.519196       -294      0.746193   \n",
      "1     snellbl01    wheelza01  PHI  SDP   0.534701       -115      0.534884   \n",
      "2     snellbl01    wheelza01  PHI  SDP   0.534701       -115      0.534884   \n",
      "3      grayso01    jeffeda01  OAK  MIN   0.551036       -108      0.519231   \n",
      "4      grayso01    jeffeda01  OAK  MIN   0.551036       -108      0.519231   \n",
      "5      grayso01    jeffeda01  OAK  MIN   0.551036       -108      0.519231   \n",
      "6      grayso01    jeffeda01  OAK  MIN   0.551036       -108      0.519231   \n",
      "7     hicksjo03    scherma01  NYM  STL   0.526491        101      0.497512   \n",
      "8     hicksjo03    scherma01  NYM  STL   0.526491        101      0.497512   \n",
      "9     hicksjo03    scherma01  NYM  STL   0.526491       -130      0.565217   \n",
      "10    hicksjo03    scherma01  NYM  STL   0.526491       -130      0.565217   \n",
      "11    friedma01    burneco01  MIL  ATL   0.502494       -145      0.591837   \n",
      "12    friedma01    burneco01  MIL  ATL   0.502494       -145      0.591837   \n",
      "13    friedma01    burneco01  MIL  ATL   0.502494       -145      0.591837   \n",
      "14     grayjo03    lopezpa01  MIA  WSN   0.499194       -160      0.615385   \n",
      "15     grayjo03    lopezpa01  MIA  WSN   0.499194       -160      0.615385   \n",
      "16     grayjo03    lopezpa01  MIA  WSN   0.499194       -160      0.615385   \n",
      "17    mahlety01    quantca01  CLE  CIN   0.460282       -170      0.629630   \n",
      "18    mahlety01    quantca01  CLE  CIN   0.460282       -170      0.629630   \n",
      "19    giolilu01    greinza01  KCR  CHW   0.516441        205      0.327869   \n",
      "20    giolilu01    greinza01  KCR  CHW   0.516441        205      0.327869   \n",
      "21    giolilu01    greinza01  KCR  CHW   0.516441       -105      0.512195   \n",
      "22    giolilu01    greinza01  KCR  CHW   0.516441       -105      0.512195   \n",
      "23     webblo01    freelky01  COL  SFG   0.511118        140      0.416667   \n",
      "24     webblo01    freelky01  COL  SFG   0.511118        140      0.416667   \n",
      "25    smylydr01      Unknown  CHC  PIT   0.618882       -145      0.591837   \n",
      "26    smylydr01      Unknown  CHC  PIT   0.618882       -145      0.591837   \n",
      "27    garcilu05    pivetni01  BOS  HOU   0.478597       -124      0.553571   \n",
      "28    garcilu05    pivetni01  BOS  HOU   0.478597       -124      0.553571   \n",
      "29     colege01    lylesjo01  BAL  NYY   0.492481        200      0.333333   \n",
      "30     colege01    lylesjo01  BAL  NYY   0.492481        200      0.333333   \n",
      "31    ohtansh01    dunnida01  TEX  LAA   0.485632        115      0.465116   \n",
      "32    davieza02    buehlwa01  LAD  ARI   0.586378       -238      0.704142   \n",
      "33    davieza02    buehlwa01  LAD  ARI   0.586378       -238      0.704142   \n",
      "34    davieza02    buehlwa01  LAD  ARI   0.586378       -238      0.704142   \n",
      "35    davieza02    buehlwa01  LAD  ARI   0.586378       -204      0.671053   \n",
      "36    davieza02    buehlwa01  LAD  ARI   0.586378       -204      0.671053   \n",
      "37    davieza02    buehlwa01  LAD  ARI   0.586378       -204      0.671053   \n",
      "38    gonzama02    gausmke01  TOR  SEA   0.481712       -145      0.591837   \n",
      "39    gonzama02    gausmke01  TOR  SEA   0.481712       -145      0.591837   \n",
      "\n",
      "    confidence conf_diff            pred_winner  \n",
      "0     0.519196 -0.226996         Tampa Bay Rays  \n",
      "1     0.534701 -0.000182  Philadelphia Phillies  \n",
      "2     0.534701 -0.000182  Philadelphia Phillies  \n",
      "3     0.551036  0.031806      Oakland Athletics  \n",
      "4     0.551036  0.031806      Oakland Athletics  \n",
      "5     0.551036  0.031806      Oakland Athletics  \n",
      "6     0.551036  0.031806      Oakland Athletics  \n",
      "7     0.526491  Contrary          New York Mets  \n",
      "8     0.526491  Contrary          New York Mets  \n",
      "9     0.526491 -0.038726          New York Mets  \n",
      "10    0.526491 -0.038726          New York Mets  \n",
      "11    0.502494 -0.089343      Milwaukee Brewers  \n",
      "12    0.502494 -0.089343      Milwaukee Brewers  \n",
      "13    0.502494 -0.089343      Milwaukee Brewers  \n",
      "14    0.500806  Contrary   Washington Nationals  \n",
      "15    0.500806  Contrary   Washington Nationals  \n",
      "16    0.500806  Contrary   Washington Nationals  \n",
      "17    0.539718  Contrary        Cincinnati Reds  \n",
      "18    0.539718  Contrary        Cincinnati Reds  \n",
      "19    0.516441  Contrary     Kansas City Royals  \n",
      "20    0.516441  Contrary     Kansas City Royals  \n",
      "21    0.516441  0.004246     Kansas City Royals  \n",
      "22    0.516441  0.004246     Kansas City Royals  \n",
      "23    0.511118  Contrary       Colorado Rockies  \n",
      "24    0.511118  Contrary       Colorado Rockies  \n",
      "25    0.618882  0.027045           Chicago Cubs  \n",
      "26    0.618882  0.027045           Chicago Cubs  \n",
      "27    0.521403  Contrary         Houston Astros  \n",
      "28    0.521403  Contrary         Houston Astros  \n",
      "29    0.507519 -0.159148       New York Yankees  \n",
      "30    0.507519 -0.159148       New York Yankees  \n",
      "31    0.514368 -0.020516     Los Angeles Angels  \n",
      "32    0.586378 -0.117764    Los Angeles Dodgers  \n",
      "33    0.586378 -0.117764    Los Angeles Dodgers  \n",
      "34    0.586378 -0.117764   Los Angeles Dodgers   \n",
      "35    0.586378 -0.084674    Los Angeles Dodgers  \n",
      "36    0.586378 -0.084674    Los Angeles Dodgers  \n",
      "37    0.586378 -0.084674   Los Angeles Dodgers   \n",
      "38    0.518288  Contrary       Seattle Mariners  \n",
      "39    0.518288  Contrary       Seattle Mariners  \n"
     ]
    }
   ],
   "source": [
    "# update teams in the link: https://www.baseball-reference.com/teams/\n",
    "create_teams_file()\n",
    "# merge in team names\n",
    "import os\n",
    "teams = pd.read_csv(teams_path)\n",
    "pred_df = pd.merge(left=pred_df, right=teams,\n",
    "                   left_on='xgb_winner', right_on='Abbr',\n",
    "                   how='left')\n",
    "\n",
    "pred_df['pred_winner'] = pred_df['Team']\n",
    "pred_df.drop(columns=['xgb_winner', 'Abbr', 'Team'], inplace=True)\n",
    "print(pred_df)\n"
   ]
  },
  {
   "cell_type": "code",
   "execution_count": 33,
   "metadata": {
    "scrolled": false
   },
   "outputs": [
    {
     "data": {
      "text/html": [
       "<table border=\"1\" class=\"dataframe\">\n",
       "  <thead>\n",
       "    <tr style=\"text-align: right;\">\n",
       "      <th>away_pitcher</th>\n",
       "      <th>home_pitcher</th>\n",
       "      <th>home</th>\n",
       "      <th>away</th>\n",
       "      <th>xgb_proba</th>\n",
       "      <th>home_odds</th>\n",
       "      <th>online_proba</th>\n",
       "      <th>confidence</th>\n",
       "      <th>conf_diff</th>\n",
       "      <th>pred_winner</th>\n",
       "      <th>conf</th>\n",
       "    </tr>\n",
       "  </thead>\n",
       "  <tbody>\n",
       "    <tr>\n",
       "      <td>smylydr01</td>\n",
       "      <td>Unknown</td>\n",
       "      <td>CHC</td>\n",
       "      <td>PIT</td>\n",
       "      <td>0.619</td>\n",
       "      <td>-145</td>\n",
       "      <td>0.592</td>\n",
       "      <td>0.619</td>\n",
       "      <td>0.027</td>\n",
       "      <td>Chicago Cubs</td>\n",
       "      <td>0.619</td>\n",
       "    </tr>\n",
       "    <tr>\n",
       "      <td>smylydr01</td>\n",
       "      <td>Unknown</td>\n",
       "      <td>CHC</td>\n",
       "      <td>PIT</td>\n",
       "      <td>0.619</td>\n",
       "      <td>-145</td>\n",
       "      <td>0.592</td>\n",
       "      <td>0.619</td>\n",
       "      <td>0.027</td>\n",
       "      <td>Chicago Cubs</td>\n",
       "      <td>0.619</td>\n",
       "    </tr>\n",
       "    <tr>\n",
       "      <td>davieza02</td>\n",
       "      <td>buehlwa01</td>\n",
       "      <td>LAD</td>\n",
       "      <td>ARI</td>\n",
       "      <td>0.586</td>\n",
       "      <td>-238</td>\n",
       "      <td>0.704</td>\n",
       "      <td>0.586</td>\n",
       "      <td>-0.118</td>\n",
       "      <td>Los Angeles Dodgers</td>\n",
       "      <td>0.586</td>\n",
       "    </tr>\n",
       "    <tr>\n",
       "      <td>davieza02</td>\n",
       "      <td>buehlwa01</td>\n",
       "      <td>LAD</td>\n",
       "      <td>ARI</td>\n",
       "      <td>0.586</td>\n",
       "      <td>-238</td>\n",
       "      <td>0.704</td>\n",
       "      <td>0.586</td>\n",
       "      <td>-0.118</td>\n",
       "      <td>Los Angeles Dodgers</td>\n",
       "      <td>0.586</td>\n",
       "    </tr>\n",
       "    <tr>\n",
       "      <td>davieza02</td>\n",
       "      <td>buehlwa01</td>\n",
       "      <td>LAD</td>\n",
       "      <td>ARI</td>\n",
       "      <td>0.586</td>\n",
       "      <td>-238</td>\n",
       "      <td>0.704</td>\n",
       "      <td>0.586</td>\n",
       "      <td>-0.118</td>\n",
       "      <td>Los Angeles Dodgers</td>\n",
       "      <td>0.586</td>\n",
       "    </tr>\n",
       "    <tr>\n",
       "      <td>davieza02</td>\n",
       "      <td>buehlwa01</td>\n",
       "      <td>LAD</td>\n",
       "      <td>ARI</td>\n",
       "      <td>0.586</td>\n",
       "      <td>-204</td>\n",
       "      <td>0.671</td>\n",
       "      <td>0.586</td>\n",
       "      <td>-0.085</td>\n",
       "      <td>Los Angeles Dodgers</td>\n",
       "      <td>0.586</td>\n",
       "    </tr>\n",
       "    <tr>\n",
       "      <td>davieza02</td>\n",
       "      <td>buehlwa01</td>\n",
       "      <td>LAD</td>\n",
       "      <td>ARI</td>\n",
       "      <td>0.586</td>\n",
       "      <td>-204</td>\n",
       "      <td>0.671</td>\n",
       "      <td>0.586</td>\n",
       "      <td>-0.085</td>\n",
       "      <td>Los Angeles Dodgers</td>\n",
       "      <td>0.586</td>\n",
       "    </tr>\n",
       "    <tr>\n",
       "      <td>davieza02</td>\n",
       "      <td>buehlwa01</td>\n",
       "      <td>LAD</td>\n",
       "      <td>ARI</td>\n",
       "      <td>0.586</td>\n",
       "      <td>-204</td>\n",
       "      <td>0.671</td>\n",
       "      <td>0.586</td>\n",
       "      <td>-0.085</td>\n",
       "      <td>Los Angeles Dodgers</td>\n",
       "      <td>0.586</td>\n",
       "    </tr>\n",
       "    <tr>\n",
       "      <td>grayso01</td>\n",
       "      <td>jeffeda01</td>\n",
       "      <td>OAK</td>\n",
       "      <td>MIN</td>\n",
       "      <td>0.551</td>\n",
       "      <td>-108</td>\n",
       "      <td>0.519</td>\n",
       "      <td>0.551</td>\n",
       "      <td>0.032</td>\n",
       "      <td>Oakland Athletics</td>\n",
       "      <td>0.551</td>\n",
       "    </tr>\n",
       "    <tr>\n",
       "      <td>grayso01</td>\n",
       "      <td>jeffeda01</td>\n",
       "      <td>OAK</td>\n",
       "      <td>MIN</td>\n",
       "      <td>0.551</td>\n",
       "      <td>-108</td>\n",
       "      <td>0.519</td>\n",
       "      <td>0.551</td>\n",
       "      <td>0.032</td>\n",
       "      <td>Oakland Athletics</td>\n",
       "      <td>0.551</td>\n",
       "    </tr>\n",
       "    <tr>\n",
       "      <td>grayso01</td>\n",
       "      <td>jeffeda01</td>\n",
       "      <td>OAK</td>\n",
       "      <td>MIN</td>\n",
       "      <td>0.551</td>\n",
       "      <td>-108</td>\n",
       "      <td>0.519</td>\n",
       "      <td>0.551</td>\n",
       "      <td>0.032</td>\n",
       "      <td>Oakland Athletics</td>\n",
       "      <td>0.551</td>\n",
       "    </tr>\n",
       "    <tr>\n",
       "      <td>grayso01</td>\n",
       "      <td>jeffeda01</td>\n",
       "      <td>OAK</td>\n",
       "      <td>MIN</td>\n",
       "      <td>0.551</td>\n",
       "      <td>-108</td>\n",
       "      <td>0.519</td>\n",
       "      <td>0.551</td>\n",
       "      <td>0.032</td>\n",
       "      <td>Oakland Athletics</td>\n",
       "      <td>0.551</td>\n",
       "    </tr>\n",
       "    <tr>\n",
       "      <td>mahlety01</td>\n",
       "      <td>quantca01</td>\n",
       "      <td>CLE</td>\n",
       "      <td>CIN</td>\n",
       "      <td>0.460</td>\n",
       "      <td>-170</td>\n",
       "      <td>0.630</td>\n",
       "      <td>0.540</td>\n",
       "      <td>Contrary</td>\n",
       "      <td>Cincinnati Reds</td>\n",
       "      <td>0.540</td>\n",
       "    </tr>\n",
       "    <tr>\n",
       "      <td>mahlety01</td>\n",
       "      <td>quantca01</td>\n",
       "      <td>CLE</td>\n",
       "      <td>CIN</td>\n",
       "      <td>0.460</td>\n",
       "      <td>-170</td>\n",
       "      <td>0.630</td>\n",
       "      <td>0.540</td>\n",
       "      <td>Contrary</td>\n",
       "      <td>Cincinnati Reds</td>\n",
       "      <td>0.540</td>\n",
       "    </tr>\n",
       "    <tr>\n",
       "      <td>snellbl01</td>\n",
       "      <td>wheelza01</td>\n",
       "      <td>PHI</td>\n",
       "      <td>SDP</td>\n",
       "      <td>0.535</td>\n",
       "      <td>-115</td>\n",
       "      <td>0.535</td>\n",
       "      <td>0.535</td>\n",
       "      <td>-0.000</td>\n",
       "      <td>Philadelphia Phillies</td>\n",
       "      <td>0.535</td>\n",
       "    </tr>\n",
       "    <tr>\n",
       "      <td>snellbl01</td>\n",
       "      <td>wheelza01</td>\n",
       "      <td>PHI</td>\n",
       "      <td>SDP</td>\n",
       "      <td>0.535</td>\n",
       "      <td>-115</td>\n",
       "      <td>0.535</td>\n",
       "      <td>0.535</td>\n",
       "      <td>-0.000</td>\n",
       "      <td>Philadelphia Phillies</td>\n",
       "      <td>0.535</td>\n",
       "    </tr>\n",
       "    <tr>\n",
       "      <td>hicksjo03</td>\n",
       "      <td>scherma01</td>\n",
       "      <td>NYM</td>\n",
       "      <td>STL</td>\n",
       "      <td>0.526</td>\n",
       "      <td>101</td>\n",
       "      <td>0.498</td>\n",
       "      <td>0.526</td>\n",
       "      <td>Contrary</td>\n",
       "      <td>New York Mets</td>\n",
       "      <td>0.526</td>\n",
       "    </tr>\n",
       "    <tr>\n",
       "      <td>hicksjo03</td>\n",
       "      <td>scherma01</td>\n",
       "      <td>NYM</td>\n",
       "      <td>STL</td>\n",
       "      <td>0.526</td>\n",
       "      <td>-130</td>\n",
       "      <td>0.565</td>\n",
       "      <td>0.526</td>\n",
       "      <td>-0.039</td>\n",
       "      <td>New York Mets</td>\n",
       "      <td>0.526</td>\n",
       "    </tr>\n",
       "    <tr>\n",
       "      <td>hicksjo03</td>\n",
       "      <td>scherma01</td>\n",
       "      <td>NYM</td>\n",
       "      <td>STL</td>\n",
       "      <td>0.526</td>\n",
       "      <td>-130</td>\n",
       "      <td>0.565</td>\n",
       "      <td>0.526</td>\n",
       "      <td>-0.039</td>\n",
       "      <td>New York Mets</td>\n",
       "      <td>0.526</td>\n",
       "    </tr>\n",
       "    <tr>\n",
       "      <td>hicksjo03</td>\n",
       "      <td>scherma01</td>\n",
       "      <td>NYM</td>\n",
       "      <td>STL</td>\n",
       "      <td>0.526</td>\n",
       "      <td>101</td>\n",
       "      <td>0.498</td>\n",
       "      <td>0.526</td>\n",
       "      <td>Contrary</td>\n",
       "      <td>New York Mets</td>\n",
       "      <td>0.526</td>\n",
       "    </tr>\n",
       "    <tr>\n",
       "      <td>garcilu05</td>\n",
       "      <td>pivetni01</td>\n",
       "      <td>BOS</td>\n",
       "      <td>HOU</td>\n",
       "      <td>0.479</td>\n",
       "      <td>-124</td>\n",
       "      <td>0.554</td>\n",
       "      <td>0.521</td>\n",
       "      <td>Contrary</td>\n",
       "      <td>Houston Astros</td>\n",
       "      <td>0.521</td>\n",
       "    </tr>\n",
       "    <tr>\n",
       "      <td>garcilu05</td>\n",
       "      <td>pivetni01</td>\n",
       "      <td>BOS</td>\n",
       "      <td>HOU</td>\n",
       "      <td>0.479</td>\n",
       "      <td>-124</td>\n",
       "      <td>0.554</td>\n",
       "      <td>0.521</td>\n",
       "      <td>Contrary</td>\n",
       "      <td>Houston Astros</td>\n",
       "      <td>0.521</td>\n",
       "    </tr>\n",
       "    <tr>\n",
       "      <td>rodried05</td>\n",
       "      <td>rasmudr01</td>\n",
       "      <td>TBR</td>\n",
       "      <td>DET</td>\n",
       "      <td>0.519</td>\n",
       "      <td>-294</td>\n",
       "      <td>0.746</td>\n",
       "      <td>0.519</td>\n",
       "      <td>-0.227</td>\n",
       "      <td>Tampa Bay Rays</td>\n",
       "      <td>0.519</td>\n",
       "    </tr>\n",
       "    <tr>\n",
       "      <td>gonzama02</td>\n",
       "      <td>gausmke01</td>\n",
       "      <td>TOR</td>\n",
       "      <td>SEA</td>\n",
       "      <td>0.482</td>\n",
       "      <td>-145</td>\n",
       "      <td>0.592</td>\n",
       "      <td>0.518</td>\n",
       "      <td>Contrary</td>\n",
       "      <td>Seattle Mariners</td>\n",
       "      <td>0.518</td>\n",
       "    </tr>\n",
       "    <tr>\n",
       "      <td>gonzama02</td>\n",
       "      <td>gausmke01</td>\n",
       "      <td>TOR</td>\n",
       "      <td>SEA</td>\n",
       "      <td>0.482</td>\n",
       "      <td>-145</td>\n",
       "      <td>0.592</td>\n",
       "      <td>0.518</td>\n",
       "      <td>Contrary</td>\n",
       "      <td>Seattle Mariners</td>\n",
       "      <td>0.518</td>\n",
       "    </tr>\n",
       "    <tr>\n",
       "      <td>giolilu01</td>\n",
       "      <td>greinza01</td>\n",
       "      <td>KCR</td>\n",
       "      <td>CHW</td>\n",
       "      <td>0.516</td>\n",
       "      <td>-105</td>\n",
       "      <td>0.512</td>\n",
       "      <td>0.516</td>\n",
       "      <td>0.004</td>\n",
       "      <td>Kansas City Royals</td>\n",
       "      <td>0.516</td>\n",
       "    </tr>\n",
       "    <tr>\n",
       "      <td>giolilu01</td>\n",
       "      <td>greinza01</td>\n",
       "      <td>KCR</td>\n",
       "      <td>CHW</td>\n",
       "      <td>0.516</td>\n",
       "      <td>-105</td>\n",
       "      <td>0.512</td>\n",
       "      <td>0.516</td>\n",
       "      <td>0.004</td>\n",
       "      <td>Kansas City Royals</td>\n",
       "      <td>0.516</td>\n",
       "    </tr>\n",
       "    <tr>\n",
       "      <td>giolilu01</td>\n",
       "      <td>greinza01</td>\n",
       "      <td>KCR</td>\n",
       "      <td>CHW</td>\n",
       "      <td>0.516</td>\n",
       "      <td>205</td>\n",
       "      <td>0.328</td>\n",
       "      <td>0.516</td>\n",
       "      <td>Contrary</td>\n",
       "      <td>Kansas City Royals</td>\n",
       "      <td>0.516</td>\n",
       "    </tr>\n",
       "    <tr>\n",
       "      <td>giolilu01</td>\n",
       "      <td>greinza01</td>\n",
       "      <td>KCR</td>\n",
       "      <td>CHW</td>\n",
       "      <td>0.516</td>\n",
       "      <td>205</td>\n",
       "      <td>0.328</td>\n",
       "      <td>0.516</td>\n",
       "      <td>Contrary</td>\n",
       "      <td>Kansas City Royals</td>\n",
       "      <td>0.516</td>\n",
       "    </tr>\n",
       "    <tr>\n",
       "      <td>ohtansh01</td>\n",
       "      <td>dunnida01</td>\n",
       "      <td>TEX</td>\n",
       "      <td>LAA</td>\n",
       "      <td>0.486</td>\n",
       "      <td>115</td>\n",
       "      <td>0.465</td>\n",
       "      <td>0.514</td>\n",
       "      <td>-0.021</td>\n",
       "      <td>Los Angeles Angels</td>\n",
       "      <td>0.514</td>\n",
       "    </tr>\n",
       "    <tr>\n",
       "      <td>webblo01</td>\n",
       "      <td>freelky01</td>\n",
       "      <td>COL</td>\n",
       "      <td>SFG</td>\n",
       "      <td>0.511</td>\n",
       "      <td>140</td>\n",
       "      <td>0.417</td>\n",
       "      <td>0.511</td>\n",
       "      <td>Contrary</td>\n",
       "      <td>Colorado Rockies</td>\n",
       "      <td>0.511</td>\n",
       "    </tr>\n",
       "    <tr>\n",
       "      <td>webblo01</td>\n",
       "      <td>freelky01</td>\n",
       "      <td>COL</td>\n",
       "      <td>SFG</td>\n",
       "      <td>0.511</td>\n",
       "      <td>140</td>\n",
       "      <td>0.417</td>\n",
       "      <td>0.511</td>\n",
       "      <td>Contrary</td>\n",
       "      <td>Colorado Rockies</td>\n",
       "      <td>0.511</td>\n",
       "    </tr>\n",
       "    <tr>\n",
       "      <td>colege01</td>\n",
       "      <td>lylesjo01</td>\n",
       "      <td>BAL</td>\n",
       "      <td>NYY</td>\n",
       "      <td>0.492</td>\n",
       "      <td>200</td>\n",
       "      <td>0.333</td>\n",
       "      <td>0.508</td>\n",
       "      <td>-0.159</td>\n",
       "      <td>New York Yankees</td>\n",
       "      <td>0.508</td>\n",
       "    </tr>\n",
       "    <tr>\n",
       "      <td>colege01</td>\n",
       "      <td>lylesjo01</td>\n",
       "      <td>BAL</td>\n",
       "      <td>NYY</td>\n",
       "      <td>0.492</td>\n",
       "      <td>200</td>\n",
       "      <td>0.333</td>\n",
       "      <td>0.508</td>\n",
       "      <td>-0.159</td>\n",
       "      <td>New York Yankees</td>\n",
       "      <td>0.508</td>\n",
       "    </tr>\n",
       "    <tr>\n",
       "      <td>friedma01</td>\n",
       "      <td>burneco01</td>\n",
       "      <td>MIL</td>\n",
       "      <td>ATL</td>\n",
       "      <td>0.502</td>\n",
       "      <td>-145</td>\n",
       "      <td>0.592</td>\n",
       "      <td>0.502</td>\n",
       "      <td>-0.089</td>\n",
       "      <td>Milwaukee Brewers</td>\n",
       "      <td>0.502</td>\n",
       "    </tr>\n",
       "    <tr>\n",
       "      <td>friedma01</td>\n",
       "      <td>burneco01</td>\n",
       "      <td>MIL</td>\n",
       "      <td>ATL</td>\n",
       "      <td>0.502</td>\n",
       "      <td>-145</td>\n",
       "      <td>0.592</td>\n",
       "      <td>0.502</td>\n",
       "      <td>-0.089</td>\n",
       "      <td>Milwaukee Brewers</td>\n",
       "      <td>0.502</td>\n",
       "    </tr>\n",
       "    <tr>\n",
       "      <td>friedma01</td>\n",
       "      <td>burneco01</td>\n",
       "      <td>MIL</td>\n",
       "      <td>ATL</td>\n",
       "      <td>0.502</td>\n",
       "      <td>-145</td>\n",
       "      <td>0.592</td>\n",
       "      <td>0.502</td>\n",
       "      <td>-0.089</td>\n",
       "      <td>Milwaukee Brewers</td>\n",
       "      <td>0.502</td>\n",
       "    </tr>\n",
       "    <tr>\n",
       "      <td>grayjo03</td>\n",
       "      <td>lopezpa01</td>\n",
       "      <td>MIA</td>\n",
       "      <td>WSN</td>\n",
       "      <td>0.499</td>\n",
       "      <td>-160</td>\n",
       "      <td>0.615</td>\n",
       "      <td>0.501</td>\n",
       "      <td>Contrary</td>\n",
       "      <td>Washington Nationals</td>\n",
       "      <td>0.501</td>\n",
       "    </tr>\n",
       "    <tr>\n",
       "      <td>grayjo03</td>\n",
       "      <td>lopezpa01</td>\n",
       "      <td>MIA</td>\n",
       "      <td>WSN</td>\n",
       "      <td>0.499</td>\n",
       "      <td>-160</td>\n",
       "      <td>0.615</td>\n",
       "      <td>0.501</td>\n",
       "      <td>Contrary</td>\n",
       "      <td>Washington Nationals</td>\n",
       "      <td>0.501</td>\n",
       "    </tr>\n",
       "    <tr>\n",
       "      <td>grayjo03</td>\n",
       "      <td>lopezpa01</td>\n",
       "      <td>MIA</td>\n",
       "      <td>WSN</td>\n",
       "      <td>0.499</td>\n",
       "      <td>-160</td>\n",
       "      <td>0.615</td>\n",
       "      <td>0.501</td>\n",
       "      <td>Contrary</td>\n",
       "      <td>Washington Nationals</td>\n",
       "      <td>0.501</td>\n",
       "    </tr>\n",
       "  </tbody>\n",
       "</table>"
      ],
      "text/plain": [
       "<IPython.core.display.HTML object>"
      ]
     },
     "execution_count": 33,
     "metadata": {},
     "output_type": "execute_result"
    }
   ],
   "source": [
    "from IPython.display import HTML\n",
    "pd.options.display.float_format = '{:.3f}'.format\n",
    "\n",
    "pred_df['conf'] = pred_df.confidence\n",
    "HTML(pred_df.sort_values(by='confidence', ascending=False).to_html(index=False))"
   ]
  },
  {
   "cell_type": "code",
   "execution_count": 34,
   "metadata": {},
   "outputs": [
    {
     "name": "stdout",
     "output_type": "stream",
     "text": [
      "2-Team Parlays:\n",
      "- Chicago Cubs, Chicago Cubs  \t 0.383\n",
      "- Chicago Cubs, Los Angeles Dodgers  \t 0.363\n",
      "- Los Angeles Dodgers, Los Angeles Dodgers  \t 0.344\n",
      "- Los Angeles Dodgers, Los Angeles Dodgers   \t 0.344\n",
      "- Los Angeles Dodgers , Los Angeles Dodgers  \t 0.344\n"
     ]
    }
   ],
   "source": [
    "print(\"2-Team Parlays:\")\n",
    "pred_df = pred_df.sort_values(by='conf', ascending=False).reset_index(drop=True)\n",
    "for i in range(5):\n",
    "    t1 = pred_df.iloc[i]\n",
    "    t2 = pred_df.iloc[i+1]\n",
    "    print(f\"- {t1.pred_winner}, {t2.pred_winner}  \\t{t1.conf*t2.conf: .3f}\")"
   ]
  },
  {
   "cell_type": "code",
   "execution_count": null,
   "metadata": {},
   "outputs": [],
   "source": []
  }
 ],
 "metadata": {
  "interpreter": {
   "hash": "430fe696b99f654a6c4fdb25cf64d7571699d3106272d0466fad8c6a8b761d91"
  },
  "kernelspec": {
   "display_name": "Python 3.9.5 64-bit",
   "language": "python",
   "name": "python3"
  },
  "language_info": {
   "codemirror_mode": {
    "name": "ipython",
    "version": 3
   },
   "file_extension": ".py",
   "mimetype": "text/x-python",
   "name": "python",
   "nbconvert_exporter": "python",
   "pygments_lexer": "ipython3",
   "version": "3.9.5"
  },
  "toc": {
   "base_numbering": 1,
   "nav_menu": {},
   "number_sections": true,
   "sideBar": true,
   "skip_h1_title": false,
   "title_cell": "Table of Contents",
   "title_sidebar": "Contents",
   "toc_cell": false,
   "toc_position": {},
   "toc_section_display": true,
   "toc_window_display": false
  }
 },
 "nbformat": 4,
 "nbformat_minor": 2
}
