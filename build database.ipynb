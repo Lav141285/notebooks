{
 "cells": [
  {
   "cell_type": "code",
   "execution_count": null,
   "metadata": {},
   "outputs": [],
   "source": [
    "import pandas as pd\n",
    "import numpy as np\n",
    "import matplotlib.pyplot as plt"
   ]
  },
  {
   "cell_type": "code",
   "execution_count": null,
   "metadata": {},
   "outputs": [],
   "source": [
    "import os\n",
    "if(not os.path.exists(os.getcwd()+\"/data\")):\n",
    "    os.mkdir(os.getcwd()+\"/data\")\n",
    "LINKS_FILE = os.getcwd()+\"/data/links.txt\"\n",
    "df_before_cleanup_path = os.getcwd()+\"/data/df_before_cleanup.csv\"\n",
    "df_w_features_path = os.getcwd()+\"/data/df_w_features.csv\"\n",
    "game_summaries_path = os.getcwd()+\"/data/game_summaries.csv\"\n",
    "teams_path = os.getcwd()+\"/data/teams.csv\"\n",
    "pitching_path = os.getcwd()+\"/data/pitching.csv\"\n",
    "pitchers_path = os.getcwd()+\"/data/pitchers.csv\"\n",
    "batting_path = os.getcwd()+\"/data/batting.csv\"\n",
    "open(pitching_path, 'w').close()\n",
    "open(pitchers_path, 'w').close()\n",
    "open(batting_path, 'w').close()\n",
    "open(game_summaries_path, 'w').close()\n",
    "open(teams_path, 'w').close()\n",
    "open(df_w_features_path, 'w').close()\n",
    "open(LINKS_FILE, 'w').close()\n",
    "open(df_before_cleanup_path, 'w').close()"
   ]
  },
  {
   "cell_type": "code",
   "execution_count": null,
   "metadata": {},
   "outputs": [],
   "source": [
    "import warnings\n",
    "%matplotlib inline\n",
    "%load_ext autoreload\n",
    "%autoreload 2\n",
    "\n",
    "warnings.filterwarnings('ignore')\n",
    "warnings.simplefilter(action='ignore', category=FutureWarning)\n"
   ]
  },
  {
   "cell_type": "code",
   "execution_count": null,
   "metadata": {},
   "outputs": [],
   "source": [
    "import threading\n",
    "import queue"
   ]
  },
  {
   "cell_type": "code",
   "execution_count": null,
   "metadata": {},
   "outputs": [],
   "source": [
    "import scrape_in_code_folder as scrape"
   ]
  },
  {
   "cell_type": "markdown",
   "metadata": {},
   "source": [
    "# Get links for individual games"
   ]
  },
  {
   "cell_type": "code",
   "execution_count": null,
   "metadata": {},
   "outputs": [],
   "source": [
    "# fill the queue with dates that we need games from\n",
    "day_q = queue.Queue(maxsize=0)\n",
    "\n",
    "get_day = pd.to_datetime('2020-07-15')\n",
    "\n",
    "# fill queue with all the dates until yesterday\n",
    "yesterday = pd.datetime.now() - pd.Timedelta(days=1)\n",
    "days = []\n",
    "while get_day < yesterday:\n",
    "    get_day = get_day + pd.Timedelta(days=1)\n",
    "    if pd.to_datetime(get_day).month < 3:\n",
    "        continue    # baseball doesn't happen before march\n",
    "    if pd.to_datetime(get_day).month > 11:\n",
    "        continue   # baseball doesn't happen in december\n",
    "    day_q.put(get_day)\n",
    "day_q.qsize()\n"
   ]
  },
  {
   "cell_type": "code",
   "execution_count": null,
   "metadata": {},
   "outputs": [],
   "source": []
  },
  {
   "cell_type": "code",
   "execution_count": null,
   "metadata": {},
   "outputs": [],
   "source": [
    "def do_work(q, lock):\n",
    "    #start working through the queue\n",
    "    while not q.empty():\n",
    "        day = q.get()\n",
    "        games = scrape.get_game_links(day)\n",
    "        \n",
    "        #some days have no games\n",
    "        if len(games)==0:\n",
    "            q.task_done()\n",
    "            print(f\"{day} no games.\")\n",
    "            continue\n",
    "        \n",
    "        #save the games to disk\n",
    "        lock.acquire()\n",
    "        with open(LINKS_FILE, \"a\") as myfile:\n",
    "            for g in games: myfile.write(g+'\\n')\n",
    "        lock.release()\n",
    "        \n",
    "        q.task_done()\n",
    "        print(f\"{day} done.\")"
   ]
  },
  {
   "cell_type": "code",
   "execution_count": null,
   "metadata": {
    "scrolled": true
   },
   "outputs": [],
   "source": [
    "num_threads = 25    # num of firefox windows\n",
    "lock = threading.Lock()\n",
    "\n",
    "#start the workers\n",
    "for i in range(num_threads):\n",
    "    worker = threading.Thread(target=do_work, args=(day_q,lock,))\n",
    "    worker.setDaemon(True)\n",
    "    worker.start()\n",
    "\n",
    "#wait for workers to finish\n",
    "day_q.join()"
   ]
  },
  {
   "cell_type": "markdown",
   "metadata": {},
   "source": [
    "# parse individual game links"
   ]
  },
  {
   "cell_type": "code",
   "execution_count": null,
   "metadata": {},
   "outputs": [],
   "source": [
    "q = queue.Queue()\n",
    "with open(LINKS_FILE, 'r') as f:\n",
    "    links = [x.strip() for x in f.readlines()] \n",
    "for l in links:\n",
    "    q.put(l)\n",
    "q.qsize()"
   ]
  },
  {
   "cell_type": "code",
   "execution_count": null,
   "metadata": {},
   "outputs": [],
   "source": [
    "def do_work(q, lock):\n",
    "    #start working through the queue\n",
    "    while not q.empty():\n",
    "        link = q.get()\n",
    "        scrape.process_link(link,lock)\n",
    "        q.task_done()"
   ]
  },
  {
   "cell_type": "code",
   "execution_count": null,
   "metadata": {
    "scrolled": true
   },
   "outputs": [],
   "source": [
    "num_threads = 25   # num of firefox windows\n",
    "lock = threading.Lock()\n",
    "\n",
    "#start the workers\n",
    "for i in range(num_threads):\n",
    "    worker = threading.Thread(target=do_work, args=(q,lock,))\n",
    "    worker.setDaemon(True)\n",
    "    worker.start()\n",
    "        \n",
    "#wait for workers to finish\n",
    "q.join()"
   ]
  },
  {
   "cell_type": "code",
   "execution_count": null,
   "metadata": {},
   "outputs": [],
   "source": []
  }
 ],
 "metadata": {
  "interpreter": {
   "hash": "430fe696b99f654a6c4fdb25cf64d7571699d3106272d0466fad8c6a8b761d91"
  },
  "kernelspec": {
   "display_name": "Python 3.9.5 64-bit",
   "language": "python",
   "name": "python3"
  },
  "language_info": {
   "codemirror_mode": {
    "name": "ipython",
    "version": 3
   },
   "file_extension": ".py",
   "mimetype": "text/x-python",
   "name": "python",
   "nbconvert_exporter": "python",
   "pygments_lexer": "ipython3",
   "version": "3.9.5"
  },
  "toc": {
   "base_numbering": 1,
   "nav_menu": {},
   "number_sections": true,
   "sideBar": true,
   "skip_h1_title": false,
   "title_cell": "Table of Contents",
   "title_sidebar": "Contents",
   "toc_cell": false,
   "toc_position": {},
   "toc_section_display": true,
   "toc_window_display": false
  }
 },
 "nbformat": 4,
 "nbformat_minor": 2
}
